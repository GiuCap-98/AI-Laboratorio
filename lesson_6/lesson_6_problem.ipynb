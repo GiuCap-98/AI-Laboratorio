{
 "cells": [
  {
   "cell_type": "markdown",
   "metadata": {},
   "source": [
    "# AI-LAB LESSON 6: Deep Reinforcement Learning\n",
    "\n",
    "In this lesson we will use the CartPole environment and we will see how to create and work with a neural network using Kears on top of Tensorflow.\n",
    "\n",
    "## CartPole\n",
    "The environment used is **CartPole** (taken from the book of Sutton and Barto as visible in the figure)\n",
    "\n",
    "![Cartpole](images/cartpole.jpg)\n",
    "\n",
    "A pole is attached by an un-actuated joint to a cart, which moves along a frictionless track. The system is controlled by applying a force of +1 or -1 to the cart. The pendulum starts upright, and the goal is to prevent it from falling over. A reward of +1 is provided for every timestep that the pole remains upright. The episode ends when the pole is more than 15 degrees from vertical, or the cart moves more than 2.4 units from the center."
   ]
  },
  {
   "cell_type": "code",
   "execution_count": 37,
   "metadata": {},
   "outputs": [],
   "source": [
    "import os, sys, tensorflow.keras, random, numpy\n",
    "module_path = os.path.abspath(os.path.join('../tools'))\n",
    "if module_path not in sys.path:\n",
    "    sys.path.append(module_path)\n",
    "\n",
    "import gym, envs\n",
    "from utils.ai_lab_functions import *\n",
    "from timeit import default_timer as timer\n",
    "from tqdm import tqdm as tqdm\n",
    "from collections import deque\n",
    "from tensorflow.keras.models import Sequential\n",
    "from tensorflow.keras.layers import Dense, Dropout\n",
    "from tensorflow.keras.optimizers import Adam"
   ]
  },
  {
   "cell_type": "markdown",
   "metadata": {},
   "source": [
    "The **state** of environment is represented as a tuple of 4 values: \n",
    "- *Cart Position* range from -4.9 to 4.8\n",
    "- *Cart Velocity* range from -inf to +inf\n",
    "- *Pole Angle* range from -24 deg to 24 deg\n",
    "- *Pole Velocity* range from -inf to +inf\n",
    "\n",
    "The **actions** allowed in the environment are 2:\n",
    "- *action 0*: push cart to left\n",
    "- *action 1*: push cart to right\n",
    "\n",
    "The **reward** is 1 for every step taken, including the termination step."
   ]
  },
  {
   "cell_type": "code",
   "execution_count": 38,
   "metadata": {},
   "outputs": [
    {
     "name": "stdout",
     "output_type": "stream",
     "text": [
      "STARTING STATE: [ 0.01432769 -0.04023467  0.0059909   0.01141211]\n",
      "\tCart Position: 0.01432768883582329\n",
      "\tCart Velocity -0.04023466981355023\n",
      "\tPole Angle 0.00599089712326506 \n",
      "\tPole Velocity 0.011412106561136205\n",
      "\n",
      "POSSIBLE ACTIONS:  2\n",
      "push left --> s' [ 0.013523   -0.23544202  0.00621914  0.3059792 ] r 1.0 done False \n",
      "\n"
     ]
    }
   ],
   "source": [
    "env = gym.make(\"CartPole-v1\")\n",
    "state = env.reset()\n",
    "print(\"STARTING STATE: {}\".format(state))\n",
    "print(\"\\tCart Position: {}\\n\\tCart Velocity {}\\n\\tPole Angle {} \\n\\tPole Velocity {}\".format(state[0], state[1], state[2], state[3]))\n",
    "\n",
    "print(\"\\nPOSSIBLE ACTIONS: \", env.action_space.n)\n",
    "\n",
    "new_state, rew, done, _ = env.step(0)\n",
    "print(\"push left --> s' {} r {} done {} \\n\".format(new_state, rew, done))"
   ]
  },
  {
   "cell_type": "markdown",
   "metadata": {},
   "source": [
    "Finally, we still have the standard functionalities of a Gym environment:\n",
    "- step(action): the agent performs action from the current state. Returns a tuple (new_state, reward, done, info) where:\n",
    "    - new_state: is the new state reached as a consequence of the agent's last action\n",
    "    - reward: the reward obtained by the agent in this step\n",
    "    - done: True if the episode is terminal, False otherwise\n",
    "    - info: not used, you can safely discard it\n",
    "\n",
    "- reset(): the environment is reset and the agent goes back to the starting position. Returns the initial state id"
   ]
  },
  {
   "cell_type": "markdown",
   "metadata": {},
   "source": [
    "## Neural network with Kears\n",
    "**Keras** is an open-source neural-network library written in Python. It is capable of running on top of TensorFlow, Microsoft Cognitive Toolkit, R, Theano, or PlaidML. Designed to enable fast experimentation with deep neural networks, it focuses on being user-friendly, modular, and extensible.\n",
    "\n",
    "![Network](images/neural_networks.png)\n",
    "\n",
    "With **Keras** you can easly create a neural network with the **Sequential** module. Before training a neural netowrk you must compile it, selecting the loss function and the optimizer. In our lab session we will use the *mean_squared_error* for the loss function and the *adam* optimizer, that is a standard configuration for the DQN approach."
   ]
  },
  {
   "cell_type": "code",
   "execution_count": 39,
   "metadata": {},
   "outputs": [],
   "source": [
    "#Come creare una feedforward neural network in keras\n",
    "\n",
    "#numero di livelli di input, layer, output\n",
    "input_layer = 3\n",
    "layer_size = 5\n",
    "output_layer = 2\n",
    "\n",
    "#creo il modello di tipo sequenziale\n",
    "model = Sequential()\n",
    "#aggiungiamo i vari elementi\n",
    "model.add(Dense(layer_size, input_dim=input_layer, activation=\"relu\")) #input layer + hidden layer #1\n",
    "model.add(Dense(layer_size, activation=\"relu\")) #hidden layer #2\n",
    "model.add(Dense(layer_size, activation=\"relu\")) #hidden layer #3\n",
    "model.add(Dense(layer_size, activation=\"relu\")) #hidden layer #4\n",
    "model.add(Dense(layer_size, activation=\"relu\")) #hidden layer #5\n",
    "model.add(Dense(output_layer, activation=\"linear\")) #output layer\n",
    "\n",
    "#dopo aver aggiunto i livelli eseguiamo la rete.\n",
    "model.compile(loss=\"mean_squared_error\", optimizer='adam') #loss function and optimzer definition"
   ]
  },
  {
   "cell_type": "markdown",
   "metadata": {},
   "source": [
    "In Keras you can compute the output of a network with the **predict** function, that requires in input the values of the input layer nodes and returns the corresponding values of the output layer."
   ]
  },
  {
   "cell_type": "code",
   "execution_count": 40,
   "metadata": {},
   "outputs": [
    {
     "name": "stdout",
     "output_type": "stream",
     "text": [
      "Input network: [0.21070514759286874, 0.9109120032059856, 0.7998467401673276]\n",
      "network Prediction: [0.04095833 0.03826981]\n"
     ]
    }
   ],
   "source": [
    "input_network = [random.uniform(0, 1), random.uniform(0, 1), random.uniform(0, 1)]\n",
    "output_network = model.predict(np.array([input_network]))\n",
    "print(\"Input network: {}\".format(input_network))\n",
    "print(\"network Prediction: {}\".format(output_network[0]))"
   ]
  },
  {
   "cell_type": "markdown",
   "metadata": {},
   "source": [
    "To train a network in Keras we must use the function **fit**, that take as input:\n",
    "- *input*: the input of the network that we want to train\n",
    "- *expected_output*: the target output (i.e., the desired output)\n",
    "- *epochs*: the number of iteration for the backpropagation (in DQN this value is always 1)."
   ]
  },
  {
   "cell_type": "code",
   "execution_count": 41,
   "metadata": {},
   "outputs": [
    {
     "name": "stdout",
     "output_type": "stream",
     "text": [
      "Prediction 'before' training:\n",
      "[[0.11756088 0.03518894]]\n",
      "\n",
      "Prediction 'after' training:\n",
      "[[1.8626451e-09 0.0000000e+00]]\n"
     ]
    }
   ],
   "source": [
    "input_network = [random.uniform(0, 1), random.uniform(0, 1), random.uniform(0, 1)]\n",
    "expected_output = [0, 0]\n",
    "\n",
    "print(\"Prediction 'before' training:\")\n",
    "print(model.predict(np.array([input_network])))\n",
    "\n",
    "model.fit(np.array([input_network]), np.array([expected_output]), epochs=1000, verbose=0)\n",
    "\n",
    "print(\"\\nPrediction 'after' training:\")\n",
    "print(model.predict(np.array([input_network])))"
   ]
  },
  {
   "cell_type": "markdown",
   "metadata": {},
   "source": [
    "Finally, remember that for all the methods (*fit*, *predict*, ...) keras requires as input a numpy array of arrays, for example you must convert your state in the correct **shape**.  Kears will return, in the same way, an array of array, so to extract the corresponding output layer you must select the first element."
   ]
  },
  {
   "cell_type": "code",
   "execution_count": 42,
   "metadata": {},
   "outputs": [
    {
     "name": "stdout",
     "output_type": "stream",
     "text": [
      "[0 0 0]\n",
      "[[0 0 0]]\n",
      "Prediction: [-0.01602738 -0.01264981]\n"
     ]
    }
   ],
   "source": [
    "state = np.array([0, 0, 0])\n",
    "#model.predict(state) #will give you an error\n",
    "print(state)\n",
    "#facciamo un array di array\n",
    "state = state.reshape(1, 3)\n",
    "print(state)\n",
    "print(\"Prediction:\", model.predict(state)[0])"
   ]
  },
  {
   "cell_type": "markdown",
   "metadata": {},
   "source": [
    "## Assignment: Q-Learning\n",
    "\n",
    "Your assignement is to implement all the necessary functions for a deep q-learning algorithm. In particular you must implement the following functions: *create_model*, *train_model* and *DQN*.\n",
    "\n",
    "#### Hint:\n",
    "For the experience replay buffer you can use the python data structure *dequeue*, defining the maximum length allowed. With the *random.sample(replay_buffer, size)* function you can sample *size* element from the queue:"
   ]
  },
  {
   "cell_type": "markdown",
   "metadata": {},
   "source": [
    "#### DQN\n",
    "In DQN ci sono due approcci fondamentali:\n",
    "\n",
    "- utilizzare due reti: \n",
    "    - target network \n",
    "    - Q network\n",
    "- utilizzare un  **experience replay** : ogni volta che faccio un aggiornamento non aggiorno solo in quel punto ma aggiorno anche in altre parti dello spazio degli stati....se ho già visto un esperienza, la aggiorno comunque di nuovo (ecco perchè replay)\n",
    "    - manteniamo tutte le esperienze precedenti in un memory buffer\n",
    "    - ad ogni sample prendo in modo randomico dal mini batch(sottinsieme del memory buffer), e lo utilizzo per aggiornare i pesi dei sample sezionati\n",
    "permette di:\n",
    "- ridurre le interazioni con l'ambiente in quanto ricordo le esperienze\n",
    "- riduce la correlazione tra sample successivi\n",
    "\n",
    "Trattiamo una versione semplificata di dqn: utilizzeremo il replay buffer ma useremo solo una rete per motivi computazionali\n",
    "per fare il replay buffer si consiglia di utilizzare la struttura dati **deque** a cui diamo una capacità max\n"
   ]
  },
  {
   "cell_type": "code",
   "execution_count": 43,
   "metadata": {},
   "outputs": [
    {
     "name": "stdout",
     "output_type": "stream",
     "text": [
      "Get 3 element from replay_buffer: [0.15192643940515005, 0.13287417704457927, 0.38635434371185295]\n"
     ]
    }
   ],
   "source": [
    "replay_buffer = deque(maxlen=10000)\n",
    "for _ in range(100): replay_buffer.append(random.uniform(0, 1))\n",
    "\n",
    "# per estrarre 3 elementi dal relay buffer\n",
    "samples = random.sample(replay_buffer, 3) \n",
    "print(\"Get 3 element from replay_buffer:\", samples)"
   ]
  },
  {
   "cell_type": "code",
   "execution_count": 44,
   "metadata": {},
   "outputs": [],
   "source": [
    "def create_model(input_size, output_size, hidden_layer_size, hidden_layer_number):\n",
    "    \"\"\"\n",
    "    Create the neural network model with the given parameters\n",
    "    \n",
    "    Args:\n",
    "        input_size: the number of nodes for the input layer\n",
    "        output_size: the number of nodes for the output layer\n",
    "        hidden_layer_size: the number of nodes for each hidden layer\n",
    "        hidden_layer_number: the number of hidden layers\n",
    "        \n",
    "    Returns:\n",
    "        model: the corresponding neural network\n",
    "    \"\"\"\n",
    "    #\n",
    "    # YOUR CODE HERE ...\n",
    "    \n",
    "    model = Sequential()\n",
    "    \n",
    "    #aggiungiamo gli hidden layer\n",
    "\n",
    "    model.add(Dense(hidden_layer_size, input_dim=input_size, activation=\"relu\"))\n",
    "    \n",
    "    for _ in range(hidden_layer_number):\n",
    "        model.add(Dense(hidden_layer_size, activation=\"relu\"))\n",
    "\n",
    "    model.add(Dense(output_size, activation=\"linear\"))\n",
    "    \n",
    "    #Creiamo effettivamente la rete\n",
    "    model.compile(loss=\"mean_squared_error\", optimizer='adam')\n",
    "    \n",
    "    #\n",
    "    return model"
   ]
  },
  {
   "cell_type": "code",
   "execution_count": 45,
   "metadata": {},
   "outputs": [],
   "source": [
    "def train_model(model, memory, batch_size, gamma=0.99):\n",
    "    \"\"\"\n",
    "    Performs the value iteration algorithm for a specific environment\n",
    "    \n",
    "    Args:\n",
    "        model: the neural network model to train\n",
    "        memory: the memory array on wich perform the training\n",
    "        batch_size: the size of the batch sampled from the memory\n",
    "        gamma: gamma value, the discount factor for the Bellman equation\n",
    "    \"\"\"    \n",
    "    #\n",
    "    # YOUR CODE HERE ...\n",
    "    if len(memory) < batch_size:\n",
    "        return model\n",
    "    \n",
    "    # per estrarre \"batch_size\" elementi dal MB\n",
    "    samples = random.sample(memory, batch_size) \n",
    "    \n",
    "    #per ogni sample nel MB facciamone il fitting\n",
    "    for experience in samples:\n",
    "    \n",
    "        state, action, newState, rw, done = experience    \n",
    "        state = state.reshape(1, 4) \n",
    "        \n",
    "        target = model.predict(state)[0] \n",
    "        \n",
    "        # Il prossimo stato è uno stato di goal?\n",
    "        if done:\n",
    "            target[action] = rw\n",
    "        else:\n",
    "            newState = newState.reshape(1, 4)\n",
    "            max_q = max(model.predict(newState)[0]) # ho il max q-value stimato di newState\n",
    "            target[action] = rw + (max_q * gamma) \n",
    "        \n",
    "        #aggiorniamo lo stato \n",
    "        target = target.reshape(1, 2)\n",
    "        model.fit(state, target, epochs=1, verbose=0) \n",
    "    #\n",
    "    return model"
   ]
  },
  {
   "cell_type": "code",
   "execution_count": 46,
   "metadata": {},
   "outputs": [],
   "source": [
    "\n",
    "def epsilon_greedy(environment, nn, state, epsilon):\n",
    "    \n",
    "    state  = state.reshape(1, 4)\n",
    "    \n",
    "    if random.uniform(0, 1) < epsilon:\n",
    "        return environment.action_space.sample()\n",
    "    #il max sulle a dell'output atteso\n",
    "    return np.argmax(neural_network.predict(state)[0])\n"
   ]
  },
  {
   "cell_type": "code",
   "execution_count": 47,
   "metadata": {},
   "outputs": [],
   "source": [
    "def DQN(environment, neural_network, trials, goal_score, batch_size, epsilon_decay=0.9995):\n",
    "    \"\"\"\n",
    "    Performs the uQ-Learning algorithm for a specific environment on a specific neural network model\n",
    "    \n",
    "    Args:\n",
    "        environment: OpenAI Gym environment\n",
    "        neural_network: the neural network to train\n",
    "        trials: the number of iterations for the training phase\n",
    "        goal_score: the minimum score to consider the problem 'solved'\n",
    "        batch_size: the size of the batch sampled from the memory\n",
    "        epsilon_decay: the decay value of epsilon for the eps-greedy exploration\n",
    "        \n",
    "    Returns:\n",
    "        score_queue: 1-d dimensional array of the reward obtained at each trial step\n",
    "    \"\"\"\n",
    "            \n",
    "    epsilon = 1.0; epsilon_min = 0.01\n",
    "    score_queue = []\n",
    "    experience_buffer = deque(maxlen=500)\n",
    "    #\n",
    "    # YOUR CODE HERE ...\n",
    "    for trial in range(trials):\n",
    "        #\n",
    "        # YOUR CODE HERE ...\n",
    "        \n",
    "        # inizializzo lo stato corrente\n",
    "        state = environment.reset()\n",
    "        done  = False\n",
    "        score = 0\n",
    "        \n",
    "        # se non sono in uno stato terminale allora....\n",
    "        while not done:\n",
    "            \n",
    "            # scegliamo un azione usando epsilon - greedy\n",
    "            action = epsilon_greedy(environment, neural_network, state, epsilon)\n",
    "            \n",
    "            # eseguiamo l'azione\n",
    "            newState, rw, done, _ = environment.step(action)\n",
    "            experience_buffer.append([state, action, newState, rw, done])\n",
    "            \n",
    "            # facciamo il training\n",
    "            neural_network = train_model(neural_network, experience_buffer, batch_size)     \n",
    "            \n",
    "            # aggiorniamo le variabili\n",
    "            state  = newState\n",
    "            score += rw\n",
    "            epsilon = epsilon * epsilon_decay\n",
    "            epsilon = max(epsilon, epsilon_min)\n",
    "            \n",
    "            \n",
    "        score_queue.append(score)\n",
    "        \n",
    "        if score > goal_score: \n",
    "            break\n",
    "        \n",
    "        print(\"Episode: {:7.0f}, Score: {:3.0f}, EPS: {:3.2f}\".format(trial, score_queue[-1], epsilon))\n",
    "    \n",
    "    return neural_network, score_queue"
   ]
  },
  {
   "cell_type": "markdown",
   "metadata": {},
   "source": [
    "## Execution\n",
    "The following code executes the DQN and plots the reward function, the execution could require up to 10 minutes on some computer. A more efficent version of the code can be found [here](https://github.com/d-corsi/BasicRL).\n",
    "Correct results for comparison can be found here below. Notice that since the executions are stochastic the charts could differ: the important thing is the global trend and the final convergence to a visible reward improvement."
   ]
  },
  {
   "cell_type": "code",
   "execution_count": 48,
   "metadata": {},
   "outputs": [
    {
     "name": "stdout",
     "output_type": "stream",
     "text": [
      "Episode:       0, Score:  47, EPS: 0.98\n",
      "Episode:       1, Score:  27, EPS: 0.96\n",
      "Episode:       2, Score:  28, EPS: 0.95\n",
      "Episode:       3, Score:  10, EPS: 0.95\n",
      "Episode:       4, Score:  18, EPS: 0.94\n",
      "Episode:       5, Score:  20, EPS: 0.93\n",
      "Episode:       6, Score:  30, EPS: 0.91\n",
      "Episode:       7, Score:  19, EPS: 0.91\n",
      "Episode:       8, Score:  20, EPS: 0.90\n",
      "Episode:       9, Score:  25, EPS: 0.89\n",
      "Episode:      10, Score:  17, EPS: 0.88\n",
      "Episode:      11, Score:  17, EPS: 0.87\n",
      "Episode:      12, Score:  16, EPS: 0.86\n",
      "Episode:      13, Score:   9, EPS: 0.86\n",
      "Episode:      14, Score:  71, EPS: 0.83\n",
      "Episode:      15, Score:  44, EPS: 0.81\n",
      "Episode:      16, Score:  17, EPS: 0.80\n",
      "Episode:      17, Score:  13, EPS: 0.80\n",
      "Episode:      18, Score:  21, EPS: 0.79\n",
      "Episode:      19, Score:  12, EPS: 0.79\n",
      "Episode:      20, Score:  16, EPS: 0.78\n",
      "Episode:      21, Score:  15, EPS: 0.77\n",
      "Episode:      22, Score:  13, EPS: 0.77\n",
      "Episode:      23, Score:   9, EPS: 0.77\n",
      "Episode:      24, Score:  35, EPS: 0.75\n",
      "Episode:      25, Score:  17, EPS: 0.75\n",
      "Episode:      26, Score:  23, EPS: 0.74\n",
      "Episode:      27, Score:  17, EPS: 0.73\n",
      "Episode:      28, Score:  46, EPS: 0.71\n",
      "Episode:      29, Score:  20, EPS: 0.71\n",
      "Episode:      30, Score:  22, EPS: 0.70\n",
      "Episode:      31, Score:  18, EPS: 0.69\n",
      "Episode:      32, Score:  18, EPS: 0.69\n",
      "Episode:      33, Score:  15, EPS: 0.68\n",
      "Episode:      34, Score:  10, EPS: 0.68\n",
      "Episode:      35, Score:  17, EPS: 0.67\n",
      "Episode:      36, Score:  22, EPS: 0.67\n",
      "Episode:      37, Score:  13, EPS: 0.66\n",
      "Episode:      38, Score:  17, EPS: 0.66\n",
      "Episode:      39, Score:  16, EPS: 0.65\n",
      "Episode:      40, Score:  14, EPS: 0.65\n",
      "Episode:      41, Score:  25, EPS: 0.64\n",
      "Episode:      42, Score:  16, EPS: 0.63\n",
      "Episode:      43, Score:  13, EPS: 0.63\n",
      "Episode:      44, Score:  22, EPS: 0.62\n",
      "Episode:      45, Score:  16, EPS: 0.62\n",
      "Episode:      46, Score:  16, EPS: 0.61\n",
      "Episode:      47, Score:  11, EPS: 0.61\n",
      "Episode:      48, Score:  14, EPS: 0.60\n",
      "Episode:      49, Score:  37, EPS: 0.59\n",
      "Episode:      50, Score:  13, EPS: 0.59\n",
      "Episode:      51, Score:  16, EPS: 0.58\n",
      "Episode:      52, Score:  13, EPS: 0.58\n",
      "Episode:      53, Score:  13, EPS: 0.58\n",
      "Episode:      54, Score:  26, EPS: 0.57\n",
      "Episode:      55, Score:  26, EPS: 0.56\n",
      "Episode:      56, Score:  12, EPS: 0.56\n",
      "Episode:      57, Score:  21, EPS: 0.55\n"
     ]
    },
    {
     "data": {
      "image/png": "[encoded data removed]",
      "text/plain": [
       "<Figure size 936x432 with 1 Axes>"
      ]
     },
     "metadata": {
      "needs_background": "light"
     },
     "output_type": "display_data"
    }
   ],
   "source": [
    "rewser = []\n",
    "window = 10\n",
    "\n",
    "env = gym.make(\"CartPole-v1\")\n",
    "neural_network = create_model(4, 2, 32, 2)\n",
    "neural_network, score = DQN(env, neural_network, trials=100, goal_score=130, batch_size=32)\n",
    "\n",
    "score = rolling(np.array(score), window)\n",
    "rewser.append({\"x\": np.arange(1, len(score) + 1), \"y\": score, \"ls\": \"-\", \"label\": \"DQN\"})\n",
    "plot(rewser, \"Rewards\", \"Episodes\", \"Rewards\")"
   ]
  },
  {
   "cell_type": "markdown",
   "metadata": {},
   "source": [
    "**Standard DQN on CartPole results:**\n",
    "<img src=\"images/results-dqn.png\" width=\"600\">"
   ]
  },
  {
   "cell_type": "code",
   "execution_count": null,
   "metadata": {},
   "outputs": [],
   "source": []
  }
 ],
 "metadata": {
  "kernelspec": {
   "display_name": "Python 3 (ipykernel)",
   "language": "python",
   "name": "python3"
  },
  "language_info": {
   "codemirror_mode": {
    "name": "ipython",
    "version": 3
   },
   "file_extension": ".py",
   "mimetype": "text/x-python",
   "name": "python",
   "nbconvert_exporter": "python",
   "pygments_lexer": "ipython3",
   "version": "3.7.3"
  }
 },
 "nbformat": 4,
 "nbformat_minor": 4
}
